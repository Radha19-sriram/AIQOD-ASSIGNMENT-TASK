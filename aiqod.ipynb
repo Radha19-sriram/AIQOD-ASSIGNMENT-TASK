{
  "nbformat": 4,
  "nbformat_minor": 0,
  "metadata": {
    "colab": {
      "provenance": [],
      "authorship_tag": "ABX9TyN9TVzCskNb2tsAHlWbbesF",
      "include_colab_link": true
    },
    "kernelspec": {
      "name": "python3",
      "display_name": "Python 3"
    },
    "language_info": {
      "name": "python"
    }
  },
  "cells": [
    {
      "cell_type": "markdown",
      "metadata": {
        "id": "view-in-github",
        "colab_type": "text"
      },
      "source": [
        "<a href=\"https://colab.research.google.com/github/Radha19-sriram/AIQOD-ASSIGNMENT-TASK/blob/main/aiqod.ipynb\" target=\"_parent\"><img src=\"https://colab.research.google.com/assets/colab-badge.svg\" alt=\"Open In Colab\"/></a>"
      ]
    },
    {
      "cell_type": "code",
      "source": [
        "import pandas as pd\n",
        "import numpy as np\n",
        "from sklearn.feature_extraction.text import TfidfVectorizer\n",
        "from sklearn.linear_model import LogisticRegression\n",
        "from sklearn.multioutput import MultiOutputClassifier"
      ],
      "metadata": {
        "id": "rp-CO1c2nXKk"
      },
      "execution_count": null,
      "outputs": []
    },
    {
      "cell_type": "markdown",
      "source": [
        "Load and Inspect the Data:"
      ],
      "metadata": {
        "id": "nj4uOJs_hoD0"
      }
    },
    {
      "cell_type": "code",
      "execution_count": null,
      "metadata": {
        "id": "AATWNCT_da70",
        "colab": {
          "base_uri": "https://localhost:8080/"
        },
        "outputId": "c4e7ba0b-b382-497a-9394-a9bcd43ee38a"
      },
      "outputs": [
        {
          "output_type": "stream",
          "name": "stdout",
          "text": [
            "Shape of train_data: (9999, 146)\n",
            "Shape of y_train: (49999, 34)\n",
            "Shape of test_data: (1999, 146)\n"
          ]
        }
      ],
      "source": [
        "# Load training data\n",
        "train_data = pd.read_csv('/content/train.csv')\n",
        "# Load training labels\n",
        "y_train = pd.read_csv('/content/trainLabels.csv')\n",
        "# Load test data\n",
        "test_data = pd.read_csv('/content/test.csv')\n",
        "\n",
        "# Check the shape of the datasets\n",
        "print(\"Shape of train_data:\", train_data.shape)\n",
        "print(\"Shape of y_train:\", y_train.shape)\n",
        "print(\"Shape of test_data:\", test_data.shape)\n",
        "\n",
        "if 'id' in train_data.columns:\n",
        "    train_data.set_index('id', inplace=True)\n",
        "if 'id' in y_train.columns:\n",
        "    y_train.set_index('id', inplace=True)\n",
        "if 'id' in test_data.columns:\n",
        "    test_data.set_index('id', inplace=True)\n"
      ]
    },
    {
      "cell_type": "markdown",
      "source": [
        "Data Preprocessing"
      ],
      "metadata": {
        "id": "PQRO-PBjoGAi"
      }
    },
    {
      "cell_type": "code",
      "source": [
        "# Combine text columns for both train and test data\n",
        "train_data['combined_text'] = train_data.apply(lambda row: ' '.join(row.dropna().astype(str)), axis=1)\n",
        "test_data['combined_text'] = test_data.apply(lambda row: ' '.join(row.dropna().astype(str)), axis=1)\n",
        "\n",
        "# Ensure no missing values in combined_text\n",
        "train_data = train_data[train_data['combined_text'].notna()]\n",
        "test_data = test_data[test_data['combined_text'].notna()]\n",
        "\n",
        "# Align X_train and y_train by index\n",
        "X_train = train_data['combined_text']\n",
        "y_train = y_train.loc[train_data.index]\n",
        "\n",
        "# Convert all labels to numeric type\n",
        "y_train = y_train.apply(pd.to_numeric, errors='coerce').fillna(0).astype(int)\n",
        "\n",
        "# Check for label columns with only one unique value\n",
        "single_class_columns = [col for col in y_train.columns if y_train[col].nunique() == 1]\n",
        "print(f\"Columns with a single class: {single_class_columns}\")\n",
        "\n",
        "# Remove these columns from y_train\n",
        "y_train = y_train.drop(columns=single_class_columns)\n",
        "\n",
        "# Check the shape after preprocessing\n",
        "print(\"Shape of X_train after preprocessing:\", X_train.shape)\n",
        "print(\"Shape of y_train after preprocessing:\", y_train.shape)\n",
        "print(\"Shape of test_data after preprocessing:\", test_data.shape)\n"
      ],
      "metadata": {
        "colab": {
          "base_uri": "https://localhost:8080/"
        },
        "id": "ihatTFNtoIaK",
        "outputId": "9b98a3fb-de28-487b-dcd3-883adfa2daa5"
      },
      "execution_count": null,
      "outputs": [
        {
          "output_type": "stream",
          "name": "stdout",
          "text": [
            "Columns with a single class: ['y14']\n",
            "Shape of X_train after preprocessing: (9999,)\n",
            "Shape of y_train after preprocessing: (9999, 32)\n",
            "Shape of test_data after preprocessing: (1999, 147)\n"
          ]
        }
      ]
    },
    {
      "cell_type": "markdown",
      "source": [
        "Feature Extraction"
      ],
      "metadata": {
        "id": "Fn5mlDlGoNzD"
      }
    },
    {
      "cell_type": "code",
      "source": [
        "tfidf_vectorizer = TfidfVectorizer(max_features=10000)\n",
        "X_train_tfidf = tfidf_vectorizer.fit_transform(X_train)\n",
        "X_test_tfidf = tfidf_vectorizer.transform(test_data['combined_text'])\n",
        "\n",
        "# Ensure shapes match\n",
        "print(\"Shape of X_train_tfidf:\", X_train_tfidf.shape)\n",
        "print(\"Shape of y_train:\", y_train.shape)"
      ],
      "metadata": {
        "colab": {
          "base_uri": "https://localhost:8080/"
        },
        "id": "jaguOsEziH65",
        "outputId": "7719d9b3-0b11-409d-be54-7eb614169e0a"
      },
      "execution_count": null,
      "outputs": [
        {
          "output_type": "stream",
          "name": "stdout",
          "text": [
            "Shape of X_train_tfidf: (9999, 10000)\n",
            "Shape of y_train: (9999, 32)\n"
          ]
        }
      ]
    },
    {
      "cell_type": "markdown",
      "source": [
        "Model Training"
      ],
      "metadata": {
        "id": "mti8nLIWodzu"
      }
    },
    {
      "cell_type": "code",
      "source": [
        "model = MultiOutputClassifier(LogisticRegression(max_iter=1000))\n",
        "model.fit(X_train_tfidf, y_train)\n"
      ],
      "metadata": {
        "colab": {
          "base_uri": "https://localhost:8080/",
          "height": 118
        },
        "id": "UEC2vQlJkXbe",
        "outputId": "3be52e87-002c-42ae-d892-93fcd095d7ed"
      },
      "execution_count": null,
      "outputs": [
        {
          "output_type": "execute_result",
          "data": {
            "text/plain": [
              "MultiOutputClassifier(estimator=LogisticRegression(max_iter=1000))"
            ],
            "text/html": [
              "<style>#sk-container-id-1 {color: black;background-color: white;}#sk-container-id-1 pre{padding: 0;}#sk-container-id-1 div.sk-toggleable {background-color: white;}#sk-container-id-1 label.sk-toggleable__label {cursor: pointer;display: block;width: 100%;margin-bottom: 0;padding: 0.3em;box-sizing: border-box;text-align: center;}#sk-container-id-1 label.sk-toggleable__label-arrow:before {content: \"▸\";float: left;margin-right: 0.25em;color: #696969;}#sk-container-id-1 label.sk-toggleable__label-arrow:hover:before {color: black;}#sk-container-id-1 div.sk-estimator:hover label.sk-toggleable__label-arrow:before {color: black;}#sk-container-id-1 div.sk-toggleable__content {max-height: 0;max-width: 0;overflow: hidden;text-align: left;background-color: #f0f8ff;}#sk-container-id-1 div.sk-toggleable__content pre {margin: 0.2em;color: black;border-radius: 0.25em;background-color: #f0f8ff;}#sk-container-id-1 input.sk-toggleable__control:checked~div.sk-toggleable__content {max-height: 200px;max-width: 100%;overflow: auto;}#sk-container-id-1 input.sk-toggleable__control:checked~label.sk-toggleable__label-arrow:before {content: \"▾\";}#sk-container-id-1 div.sk-estimator input.sk-toggleable__control:checked~label.sk-toggleable__label {background-color: #d4ebff;}#sk-container-id-1 div.sk-label input.sk-toggleable__control:checked~label.sk-toggleable__label {background-color: #d4ebff;}#sk-container-id-1 input.sk-hidden--visually {border: 0;clip: rect(1px 1px 1px 1px);clip: rect(1px, 1px, 1px, 1px);height: 1px;margin: -1px;overflow: hidden;padding: 0;position: absolute;width: 1px;}#sk-container-id-1 div.sk-estimator {font-family: monospace;background-color: #f0f8ff;border: 1px dotted black;border-radius: 0.25em;box-sizing: border-box;margin-bottom: 0.5em;}#sk-container-id-1 div.sk-estimator:hover {background-color: #d4ebff;}#sk-container-id-1 div.sk-parallel-item::after {content: \"\";width: 100%;border-bottom: 1px solid gray;flex-grow: 1;}#sk-container-id-1 div.sk-label:hover label.sk-toggleable__label {background-color: #d4ebff;}#sk-container-id-1 div.sk-serial::before {content: \"\";position: absolute;border-left: 1px solid gray;box-sizing: border-box;top: 0;bottom: 0;left: 50%;z-index: 0;}#sk-container-id-1 div.sk-serial {display: flex;flex-direction: column;align-items: center;background-color: white;padding-right: 0.2em;padding-left: 0.2em;position: relative;}#sk-container-id-1 div.sk-item {position: relative;z-index: 1;}#sk-container-id-1 div.sk-parallel {display: flex;align-items: stretch;justify-content: center;background-color: white;position: relative;}#sk-container-id-1 div.sk-item::before, #sk-container-id-1 div.sk-parallel-item::before {content: \"\";position: absolute;border-left: 1px solid gray;box-sizing: border-box;top: 0;bottom: 0;left: 50%;z-index: -1;}#sk-container-id-1 div.sk-parallel-item {display: flex;flex-direction: column;z-index: 1;position: relative;background-color: white;}#sk-container-id-1 div.sk-parallel-item:first-child::after {align-self: flex-end;width: 50%;}#sk-container-id-1 div.sk-parallel-item:last-child::after {align-self: flex-start;width: 50%;}#sk-container-id-1 div.sk-parallel-item:only-child::after {width: 0;}#sk-container-id-1 div.sk-dashed-wrapped {border: 1px dashed gray;margin: 0 0.4em 0.5em 0.4em;box-sizing: border-box;padding-bottom: 0.4em;background-color: white;}#sk-container-id-1 div.sk-label label {font-family: monospace;font-weight: bold;display: inline-block;line-height: 1.2em;}#sk-container-id-1 div.sk-label-container {text-align: center;}#sk-container-id-1 div.sk-container {/* jupyter's `normalize.less` sets `[hidden] { display: none; }` but bootstrap.min.css set `[hidden] { display: none !important; }` so we also need the `!important` here to be able to override the default hidden behavior on the sphinx rendered scikit-learn.org. See: https://github.com/scikit-learn/scikit-learn/issues/21755 */display: inline-block !important;position: relative;}#sk-container-id-1 div.sk-text-repr-fallback {display: none;}</style><div id=\"sk-container-id-1\" class=\"sk-top-container\"><div class=\"sk-text-repr-fallback\"><pre>MultiOutputClassifier(estimator=LogisticRegression(max_iter=1000))</pre><b>In a Jupyter environment, please rerun this cell to show the HTML representation or trust the notebook. <br />On GitHub, the HTML representation is unable to render, please try loading this page with nbviewer.org.</b></div><div class=\"sk-container\" hidden><div class=\"sk-item sk-dashed-wrapped\"><div class=\"sk-label-container\"><div class=\"sk-label sk-toggleable\"><input class=\"sk-toggleable__control sk-hidden--visually\" id=\"sk-estimator-id-1\" type=\"checkbox\" ><label for=\"sk-estimator-id-1\" class=\"sk-toggleable__label sk-toggleable__label-arrow\">MultiOutputClassifier</label><div class=\"sk-toggleable__content\"><pre>MultiOutputClassifier(estimator=LogisticRegression(max_iter=1000))</pre></div></div></div><div class=\"sk-parallel\"><div class=\"sk-parallel-item\"><div class=\"sk-item\"><div class=\"sk-label-container\"><div class=\"sk-label sk-toggleable\"><input class=\"sk-toggleable__control sk-hidden--visually\" id=\"sk-estimator-id-2\" type=\"checkbox\" ><label for=\"sk-estimator-id-2\" class=\"sk-toggleable__label sk-toggleable__label-arrow\">estimator: LogisticRegression</label><div class=\"sk-toggleable__content\"><pre>LogisticRegression(max_iter=1000)</pre></div></div></div><div class=\"sk-serial\"><div class=\"sk-item\"><div class=\"sk-estimator sk-toggleable\"><input class=\"sk-toggleable__control sk-hidden--visually\" id=\"sk-estimator-id-3\" type=\"checkbox\" ><label for=\"sk-estimator-id-3\" class=\"sk-toggleable__label sk-toggleable__label-arrow\">LogisticRegression</label><div class=\"sk-toggleable__content\"><pre>LogisticRegression(max_iter=1000)</pre></div></div></div></div></div></div></div></div></div></div>"
            ]
          },
          "metadata": {},
          "execution_count": 28
        }
      ]
    },
    {
      "cell_type": "markdown",
      "source": [
        "Prediction"
      ],
      "metadata": {
        "id": "m-eBdeo9hwLn"
      }
    },
    {
      "cell_type": "code",
      "source": [
        "y_test_pred = model.predict_proba(X_test_tfidf)"
      ],
      "metadata": {
        "id": "PQ-0EKSHhiJd"
      },
      "execution_count": null,
      "outputs": []
    },
    {
      "cell_type": "markdown",
      "source": [
        "Submission Preparation"
      ],
      "metadata": {
        "id": "BzW4HTd2wyQh"
      }
    },
    {
      "cell_type": "code",
      "source": [
        "submission = []\n",
        "for i in range(len(test_data)):\n",
        "    for j in range(len(y_test_pred)):\n",
        "        for k in range(y_test_pred[j][i].shape[0]):\n",
        "            submission.append([f\"{test_data.index[i]}_y{k+1}\", y_test_pred[j][i][k]])\n",
        "\n",
        "# Convert to DataFrame\n",
        "submission_df = pd.DataFrame(submission, columns=[\"id_label\", \"probability\"])\n",
        "# Save to CSV\n",
        "import os\n",
        "\n",
        "# Create the 'output' directory if it doesn't exist\n",
        "if not os.path.exists('output'):\n",
        "    os.makedirs('output')\n",
        "\n",
        "# Save to CSV in the 'output' directory\n",
        "submission_df.to_csv('output/submission.csv', index=False)\n",
        "\n",
        "print(\"Submission file created successfully!\")\n"
      ],
      "metadata": {
        "colab": {
          "base_uri": "https://localhost:8080/"
        },
        "id": "A4YCDrwIwzBz",
        "outputId": "05c8b5ec-e965-4d91-98cf-afb417def6ee"
      },
      "execution_count": null,
      "outputs": [
        {
          "output_type": "stream",
          "name": "stdout",
          "text": [
            "Submission file created successfully!\n"
          ]
        }
      ]
    },
    {
      "cell_type": "code",
      "source": [],
      "metadata": {
        "id": "SbYf592miwHc"
      },
      "execution_count": null,
      "outputs": []
    },
    {
      "cell_type": "code",
      "source": [],
      "metadata": {
        "id": "XohUnm1qi13P"
      },
      "execution_count": null,
      "outputs": []
    },
    {
      "cell_type": "code",
      "source": [],
      "metadata": {
        "id": "mkLmqY-_kkri"
      },
      "execution_count": null,
      "outputs": []
    },
    {
      "cell_type": "code",
      "source": [],
      "metadata": {
        "id": "DZ7SvGkdlFfz"
      },
      "execution_count": null,
      "outputs": []
    },
    {
      "cell_type": "code",
      "source": [],
      "metadata": {
        "id": "trwDtHTjlM1f"
      },
      "execution_count": null,
      "outputs": []
    },
    {
      "cell_type": "code",
      "source": [],
      "metadata": {
        "id": "QN0jyUQSlZ0S"
      },
      "execution_count": null,
      "outputs": []
    }
  ]
}